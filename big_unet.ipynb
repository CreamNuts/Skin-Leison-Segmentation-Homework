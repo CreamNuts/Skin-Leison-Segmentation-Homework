{
 "cells": [
  {
   "cell_type": "code",
   "execution_count": 2,
   "metadata": {},
   "outputs": [],
   "source": [
    "import torch\n",
    "\n",
    "epochs = 100\n",
    "lr = 0.00001\n",
    "train_batch_size = 32\n",
    "test_batch_size = 1\n",
    "ck_dir = 'checkpoint/big_unet'\n",
    "device = torch.device('cuda:2')"
   ]
  },
  {
   "cell_type": "code",
   "execution_count": 3,
   "metadata": {},
   "outputs": [],
   "source": [
    "TRAIN_PATH = './skin_leison/training'\n",
    "TEST_PATH = './skin_leison/testing'"
   ]
  },
  {
   "cell_type": "code",
   "execution_count": 4,
   "metadata": {},
   "outputs": [],
   "source": [
    "from torch.utils.data import DataLoader\n",
    "\n",
    "from dataset import Skin_Leison\n",
    "\n",
    "trainset = Skin_Leison(TRAIN_PATH)\n",
    "testset = Skin_Leison(TEST_PATH)\n",
    "trainloader = DataLoader(trainset, batch_size=train_batch_size, shuffle=True, num_workers=4)\n",
    "testloader = DataLoader(testset, batch_size=test_batch_size, num_workers=4)"
   ]
  },
  {
   "cell_type": "code",
   "execution_count": 5,
   "metadata": {},
   "outputs": [],
   "source": [
    "from torch import nn\n",
    "from torch.optim import Adam\n",
    "\n",
    "from models.Unet import Unet\n",
    "\n",
    "net = Unet(3, 1, 128, 4).to(device)\n",
    "optimizer = Adam(net.parameters(), lr=lr)\n",
    "criterion = nn.BCELoss()"
   ]
  },
  {
   "cell_type": "code",
   "execution_count": 6,
   "metadata": {},
   "outputs": [],
   "source": [
    "from train import train\n",
    "\n",
    "result = train(net, trainloader, testloader, epochs, optimizer, criterion, device=device, ck_dir=ck_dir)"
   ]
  },
  {
   "cell_type": "code",
   "execution_count": 7,
   "metadata": {},
   "outputs": [
    {
     "name": "stdout",
     "output_type": "stream",
     "text": [
      "Epoch: 0, Train Loss: 0.6113223028182984, Test Loss: 0.5304860946536061\n"
     ]
    },
    {
     "name": "stdout",
     "output_type": "stream",
     "text": [
      "Saving model to checkpoint/big_unet/check0.pt\n"
     ]
    },
    {
     "name": "stdout",
     "output_type": "stream",
     "text": [
      "Epoch: 1, Train Loss: 0.48831191420555115, Test Loss: 0.4015375041961668\n"
     ]
    },
    {
     "name": "stdout",
     "output_type": "stream",
     "text": [
      "val_loss improved from 0.5305 to 0.4015, saving model to checkpoint/big_unet/check1.pt\n"
     ]
    },
    {
     "name": "stdout",
     "output_type": "stream",
     "text": [
      "Epoch: 2, Train Loss: 0.3990815079212189, Test Loss: 0.31149311758577825\n"
     ]
    },
    {
     "name": "stdout",
     "output_type": "stream",
     "text": [
      "val_loss improved from 0.4015 to 0.3115, saving model to checkpoint/big_unet/check2.pt\n"
     ]
    },
    {
     "name": "stdout",
     "output_type": "stream",
     "text": [
      "Epoch: 3, Train Loss: 0.30587114095687873, Test Loss: 0.28835044961422673\n"
     ]
    },
    {
     "name": "stdout",
     "output_type": "stream",
     "text": [
      "val_loss improved from 0.3115 to 0.2884, saving model to checkpoint/big_unet/check3.pt\n"
     ]
    },
    {
     "name": "stdout",
     "output_type": "stream",
     "text": [
      "Epoch: 4, Train Loss: 0.24635364234447477, Test Loss: 0.2653326595015823\n"
     ]
    },
    {
     "name": "stdout",
     "output_type": "stream",
     "text": [
      "val_loss improved from 0.2884 to 0.2653, saving model to checkpoint/big_unet/check4.pt\n"
     ]
    },
    {
     "name": "stdout",
     "output_type": "stream",
     "text": [
      "Epoch: 5, Train Loss: 0.2211620491743088, Test Loss: 0.23271703146398073\n"
     ]
    },
    {
     "name": "stdout",
     "output_type": "stream",
     "text": [
      "val_loss improved from 0.2653 to 0.2327, saving model to checkpoint/big_unet/check5.pt\n"
     ]
    },
    {
     "name": "stdout",
     "output_type": "stream",
     "text": [
      "Epoch: 6, Train Loss: 0.20050508320331573, Test Loss: 0.2068354145810008\n"
     ]
    },
    {
     "name": "stdout",
     "output_type": "stream",
     "text": [
      "val_loss improved from 0.2327 to 0.2068, saving model to checkpoint/big_unet/check6.pt\n"
     ]
    },
    {
     "name": "stdout",
     "output_type": "stream",
     "text": [
      "Epoch: 7, Train Loss: 0.1752991795539856, Test Loss: 0.18755189292132846\n"
     ]
    },
    {
     "name": "stdout",
     "output_type": "stream",
     "text": [
      "val_loss improved from 0.2068 to 0.1876, saving model to checkpoint/big_unet/check7.pt\n"
     ]
    },
    {
     "name": "stdout",
     "output_type": "stream",
     "text": [
      "Epoch: 8, Train Loss: 0.15857437670230864, Test Loss: 0.2084761507064105\n"
     ]
    },
    {
     "name": "stdout",
     "output_type": "stream",
     "text": [
      "Epoch: 9, Train Loss: 0.15276790231466295, Test Loss: 0.20043801452964546\n"
     ]
    },
    {
     "name": "stdout",
     "output_type": "stream",
     "text": [
      "Epoch: 10, Train Loss: 0.15032182991504667, Test Loss: 0.16637348512187605\n"
     ]
    },
    {
     "name": "stdout",
     "output_type": "stream",
     "text": [
      "val_loss improved from 0.1876 to 0.1664, saving model to checkpoint/big_unet/check10.pt\n"
     ]
    },
    {
     "name": "stdout",
     "output_type": "stream",
     "text": [
      "Epoch: 11, Train Loss: 0.13096745133399965, Test Loss: 0.22962662702426323\n"
     ]
    },
    {
     "name": "stdout",
     "output_type": "stream",
     "text": [
      "Epoch: 12, Train Loss: 0.12841085404157637, Test Loss: 0.2094392312318087\n"
     ]
    },
    {
     "name": "stdout",
     "output_type": "stream",
     "text": [
      "Epoch: 13, Train Loss: 0.1194695919752121, Test Loss: 0.19071969268843542\n"
     ]
    },
    {
     "name": "stdout",
     "output_type": "stream",
     "text": [
      "Epoch: 14, Train Loss: 0.10757028669118879, Test Loss: 0.16508983518928283\n"
     ]
    },
    {
     "name": "stdout",
     "output_type": "stream",
     "text": [
      "val_loss improved from 0.1664 to 0.1651, saving model to checkpoint/big_unet/check14.pt\n"
     ]
    },
    {
     "name": "stdout",
     "output_type": "stream",
     "text": [
      "Epoch: 15, Train Loss: 0.11040481299161911, Test Loss: 0.197949730604887\n"
     ]
    },
    {
     "name": "stdout",
     "output_type": "stream",
     "text": [
      "Epoch: 16, Train Loss: 0.10948588043451309, Test Loss: 0.1578610027395189\n"
     ]
    },
    {
     "name": "stdout",
     "output_type": "stream",
     "text": [
      "val_loss improved from 0.1651 to 0.1579, saving model to checkpoint/big_unet/check16.pt\n"
     ]
    },
    {
     "name": "stdout",
     "output_type": "stream",
     "text": [
      "Epoch: 17, Train Loss: 0.09804709196090698, Test Loss: 0.15171546798199423\n"
     ]
    },
    {
     "name": "stdout",
     "output_type": "stream",
     "text": [
      "val_loss improved from 0.1579 to 0.1517, saving model to checkpoint/big_unet/check17.pt\n"
     ]
    },
    {
     "name": "stdout",
     "output_type": "stream",
     "text": [
      "Epoch: 18, Train Loss: 0.10047625184059145, Test Loss: 0.15494581440463667\n"
     ]
    },
    {
     "name": "stdout",
     "output_type": "stream",
     "text": [
      "Epoch: 19, Train Loss: 0.0973725152015686, Test Loss: 0.17572273811325428\n"
     ]
    },
    {
     "name": "stdout",
     "output_type": "stream",
     "text": [
      "Epoch: 20, Train Loss: 0.09857235461473465, Test Loss: 0.22531174270436174\n"
     ]
    },
    {
     "name": "stdout",
     "output_type": "stream",
     "text": [
      "Epoch: 21, Train Loss: 0.08641561061143875, Test Loss: 0.16121241839602585\n"
     ]
    },
    {
     "name": "stdout",
     "output_type": "stream",
     "text": [
      "Epoch: 22, Train Loss: 0.08367982983589173, Test Loss: 0.161080609690398\n"
     ]
    },
    {
     "name": "stdout",
     "output_type": "stream",
     "text": [
      "Epoch: 23, Train Loss: 0.08352559089660645, Test Loss: 0.16981676403433082\n"
     ]
    },
    {
     "name": "stdout",
     "output_type": "stream",
     "text": [
      "Epoch: 24, Train Loss: 0.10039307206869126, Test Loss: 0.26453580409288424\n"
     ]
    },
    {
     "name": "stdout",
     "output_type": "stream",
     "text": [
      "Epoch: 25, Train Loss: 0.07780886232852934, Test Loss: 0.17460799725726245\n"
     ]
    },
    {
     "name": "stdout",
     "output_type": "stream",
     "text": [
      "Epoch: 26, Train Loss: 0.07491464495658876, Test Loss: 0.18584048096090544\n"
     ]
    },
    {
     "name": "stdout",
     "output_type": "stream",
     "text": [
      "Epoch: 27, Train Loss: 0.07230551049113275, Test Loss: 0.17031492529436945\n"
     ]
    },
    {
     "name": "stdout",
     "output_type": "stream",
     "text": [
      "Epoch: 28, Train Loss: 0.06980012476444243, Test Loss: 0.16697169009596108\n"
     ]
    },
    {
     "name": "stdout",
     "output_type": "stream",
     "text": [
      "Epoch: 29, Train Loss: 0.06774491488933564, Test Loss: 0.1587678939662873\n"
     ]
    },
    {
     "name": "stdout",
     "output_type": "stream",
     "text": [
      "Epoch: 30, Train Loss: 0.07398789286613465, Test Loss: 0.26608051674440497\n"
     ]
    },
    {
     "name": "stdout",
     "output_type": "stream",
     "text": [
      "Epoch: 31, Train Loss: 0.09085296124219895, Test Loss: 0.27010299772024154\n"
     ]
    },
    {
     "name": "stdout",
     "output_type": "stream",
     "text": [
      "Epoch: 32, Train Loss: 0.07714667439460754, Test Loss: 0.16006990743800997\n"
     ]
    },
    {
     "name": "stdout",
     "output_type": "stream",
     "text": [
      "Epoch: 33, Train Loss: 0.06676400288939477, Test Loss: 0.16843592558056125\n"
     ]
    },
    {
     "name": "stdout",
     "output_type": "stream",
     "text": [
      "Epoch: 34, Train Loss: 0.06555899277329445, Test Loss: 0.16494789987802505\n"
     ]
    },
    {
     "name": "stdout",
     "output_type": "stream",
     "text": [
      "Epoch: 35, Train Loss: 0.061860340982675545, Test Loss: 0.16636738369241355\n"
     ]
    },
    {
     "name": "stdout",
     "output_type": "stream",
     "text": [
      "Epoch: 36, Train Loss: 0.06590703055262566, Test Loss: 0.16332467449828975\n"
     ]
    },
    {
     "name": "stdout",
     "output_type": "stream",
     "text": [
      "Epoch: 37, Train Loss: 0.057858519852161415, Test Loss: 0.17494707359001038\n"
     ]
    },
    {
     "name": "stdout",
     "output_type": "stream",
     "text": [
      "Epoch: 38, Train Loss: 0.05996201962232589, Test Loss: 0.15822658292949193\n"
     ]
    },
    {
     "name": "stdout",
     "output_type": "stream",
     "text": [
      "Epoch: 39, Train Loss: 0.05807004734873772, Test Loss: 0.16572068030014633\n"
     ]
    },
    {
     "name": "stdout",
     "output_type": "stream",
     "text": [
      "Epoch: 40, Train Loss: 0.05815168097615242, Test Loss: 0.16709227805957202\n"
     ]
    },
    {
     "name": "stdout",
     "output_type": "stream",
     "text": [
      "Epoch: 41, Train Loss: 0.057041392475366604, Test Loss: 0.18419122843071814\n"
     ]
    },
    {
     "name": "stdout",
     "output_type": "stream",
     "text": [
      "Epoch: 42, Train Loss: 0.05167049139738083, Test Loss: 0.16660445149987937\n"
     ]
    },
    {
     "name": "stdout",
     "output_type": "stream",
     "text": [
      "Epoch: 43, Train Loss: 0.052885910272598265, Test Loss: 0.182616257071495\n"
     ]
    },
    {
     "name": "stdout",
     "output_type": "stream",
     "text": [
      "Epoch: 44, Train Loss: 0.05329231604933738, Test Loss: 0.19740266174077975\n"
     ]
    },
    {
     "name": "stdout",
     "output_type": "stream",
     "text": [
      "Epoch: 45, Train Loss: 0.05769363716244697, Test Loss: 0.16724999066442256\n"
     ]
    },
    {
     "name": "stdout",
     "output_type": "stream",
     "text": [
      "Epoch: 46, Train Loss: 0.05403741493821144, Test Loss: 0.18109430838376278\n"
     ]
    },
    {
     "name": "stdout",
     "output_type": "stream",
     "text": [
      "Epoch: 47, Train Loss: 0.056037874966859816, Test Loss: 0.23470732940360903\n"
     ]
    },
    {
     "name": "stdout",
     "output_type": "stream",
     "text": [
      "Epoch: 48, Train Loss: 0.05435528829693794, Test Loss: 0.17230764584615832\n"
     ]
    },
    {
     "name": "stdout",
     "output_type": "stream",
     "text": [
      "Epoch: 49, Train Loss: 0.05021956607699393, Test Loss: 0.18922208651900294\n"
     ]
    },
    {
     "name": "stdout",
     "output_type": "stream",
     "text": [
      "Epoch: 50, Train Loss: 0.05367927595973015, Test Loss: 0.17478293610736717\n"
     ]
    },
    {
     "name": "stdout",
     "output_type": "stream",
     "text": [
      "Epoch: 51, Train Loss: 0.05058059781789781, Test Loss: 0.18497250506654375\n"
     ]
    },
    {
     "name": "stdout",
     "output_type": "stream",
     "text": [
      "Epoch: 52, Train Loss: 0.048647113144397736, Test Loss: 0.20658241009339692\n"
     ]
    },
    {
     "name": "stdout",
     "output_type": "stream",
     "text": [
      "Epoch: 53, Train Loss: 0.0505506008863449, Test Loss: 0.16788496768102043\n"
     ]
    },
    {
     "name": "stdout",
     "output_type": "stream",
     "text": [
      "Epoch: 54, Train Loss: 0.04702038139104844, Test Loss: 0.17645177457481614\n"
     ]
    },
    {
     "name": "stdout",
     "output_type": "stream",
     "text": [
      "Epoch: 55, Train Loss: 0.0463348738849163, Test Loss: 0.19874913752079013\n"
     ]
    },
    {
     "name": "stdout",
     "output_type": "stream",
     "text": [
      "Epoch: 56, Train Loss: 0.04760594546794891, Test Loss: 0.1837554286979139\n"
     ]
    },
    {
     "name": "stdout",
     "output_type": "stream",
     "text": [
      "Epoch: 57, Train Loss: 0.04508417546749115, Test Loss: 0.1621236710716037\n"
     ]
    },
    {
     "name": "stdout",
     "output_type": "stream",
     "text": [
      "Epoch: 58, Train Loss: 0.04350424319505691, Test Loss: 0.17093770809471598\n"
     ]
    },
    {
     "name": "stdout",
     "output_type": "stream",
     "text": [
      "Epoch: 59, Train Loss: 0.0478490599989891, Test Loss: 0.19183182252570988\n"
     ]
    },
    {
     "name": "stdout",
     "output_type": "stream",
     "text": [
      "Epoch: 60, Train Loss: 0.044852397441864006, Test Loss: 0.19106586003676052\n"
     ]
    },
    {
     "name": "stdout",
     "output_type": "stream",
     "text": [
      "Epoch: 61, Train Loss: 0.04218219816684722, Test Loss: 0.17238618200644865\n"
     ]
    },
    {
     "name": "stdout",
     "output_type": "stream",
     "text": [
      "Epoch: 62, Train Loss: 0.042056683897972104, Test Loss: 0.1840405028313398\n"
     ]
    },
    {
     "name": "stdout",
     "output_type": "stream",
     "text": [
      "Epoch: 63, Train Loss: 0.043185986429452906, Test Loss: 0.17160534961149101\n"
     ]
    },
    {
     "name": "stdout",
     "output_type": "stream",
     "text": [
      "Epoch: 64, Train Loss: 0.040063949823379526, Test Loss: 0.17703642298467473\n"
     ]
    },
    {
     "name": "stdout",
     "output_type": "stream",
     "text": [
      "Epoch: 65, Train Loss: 0.04094121009111404, Test Loss: 0.19338953191414474\n"
     ]
    },
    {
     "name": "stdout",
     "output_type": "stream",
     "text": [
      "Epoch: 66, Train Loss: 0.04059521213173865, Test Loss: 0.18361205173656348\n"
     ]
    },
    {
     "name": "stdout",
     "output_type": "stream",
     "text": [
      "Epoch: 67, Train Loss: 0.03948594674468041, Test Loss: 0.18515648519620292\n"
     ]
    },
    {
     "name": "stdout",
     "output_type": "stream",
     "text": [
      "Epoch: 68, Train Loss: 0.039870888292789466, Test Loss: 0.17700008781626825\n"
     ]
    },
    {
     "name": "stdout",
     "output_type": "stream",
     "text": [
      "Epoch: 69, Train Loss: 0.0396445719897747, Test Loss: 0.18393221832811835\n"
     ]
    },
    {
     "name": "stdout",
     "output_type": "stream",
     "text": [
      "Epoch: 70, Train Loss: 0.0412529169023037, Test Loss: 0.18705452277325088\n"
     ]
    },
    {
     "name": "stdout",
     "output_type": "stream",
     "text": [
      "Epoch: 71, Train Loss: 0.03854861989617347, Test Loss: 0.16976114851422616\n"
     ]
    },
    {
     "name": "stdout",
     "output_type": "stream",
     "text": [
      "Epoch: 72, Train Loss: 0.03889839142560959, Test Loss: 0.18327488427981733\n"
     ]
    },
    {
     "name": "stdout",
     "output_type": "stream",
     "text": [
      "Epoch: 73, Train Loss: 0.03976005032658577, Test Loss: 0.19380781986750656\n"
     ]
    },
    {
     "name": "stdout",
     "output_type": "stream",
     "text": [
      "Epoch: 74, Train Loss: 0.03901826247572899, Test Loss: 0.18003856056369838\n"
     ]
    },
    {
     "name": "stdout",
     "output_type": "stream",
     "text": [
      "Epoch: 75, Train Loss: 0.038333320468664174, Test Loss: 0.17946956733241679\n"
     ]
    },
    {
     "name": "stdout",
     "output_type": "stream",
     "text": [
      "Epoch: 76, Train Loss: 0.03862787961959839, Test Loss: 0.17631384093314414\n"
     ]
    },
    {
     "name": "stdout",
     "output_type": "stream",
     "text": [
      "Epoch: 77, Train Loss: 0.040610536783933636, Test Loss: 0.17835455393418664\n"
     ]
    },
    {
     "name": "stdout",
     "output_type": "stream",
     "text": [
      "Epoch: 78, Train Loss: 0.044634295478463176, Test Loss: 0.1783887676708401\n"
     ]
    },
    {
     "name": "stdout",
     "output_type": "stream",
     "text": [
      "Epoch: 79, Train Loss: 0.04163084566593169, Test Loss: 0.1823885109275579\n"
     ]
    },
    {
     "name": "stdout",
     "output_type": "stream",
     "text": [
      "Epoch: 80, Train Loss: 0.03957998380064965, Test Loss: 0.18421291503123938\n"
     ]
    },
    {
     "name": "stdout",
     "output_type": "stream",
     "text": [
      "Epoch: 81, Train Loss: 0.03672659374773503, Test Loss: 0.17513769114390013\n"
     ]
    },
    {
     "name": "stdout",
     "output_type": "stream",
     "text": [
      "Epoch: 82, Train Loss: 0.03645386166870595, Test Loss: 0.20013727984391158\n"
     ]
    },
    {
     "name": "stdout",
     "output_type": "stream",
     "text": [
      "Epoch: 83, Train Loss: 0.03503546632826328, Test Loss: 0.1818956186529248\n"
     ]
    },
    {
     "name": "stdout",
     "output_type": "stream",
     "text": [
      "Epoch: 84, Train Loss: 0.035688882991671556, Test Loss: 0.18352522848173972\n"
     ]
    },
    {
     "name": "stdout",
     "output_type": "stream",
     "text": [
      "Epoch: 85, Train Loss: 0.03555198982357978, Test Loss: 0.173432036023587\n"
     ]
    },
    {
     "name": "stdout",
     "output_type": "stream",
     "text": [
      "Epoch: 86, Train Loss: 0.03533031426370144, Test Loss: 0.1993208858184517\n"
     ]
    },
    {
     "name": "stdout",
     "output_type": "stream",
     "text": [
      "Epoch: 87, Train Loss: 0.03575593627989292, Test Loss: 0.20419602984562507\n"
     ]
    },
    {
     "name": "stdout",
     "output_type": "stream",
     "text": [
      "Epoch: 88, Train Loss: 0.035384286940097806, Test Loss: 0.18080166812986134\n"
     ]
    },
    {
     "name": "stdout",
     "output_type": "stream",
     "text": [
      "Epoch: 89, Train Loss: 0.03311269484460354, Test Loss: 0.18647596149705345\n"
     ]
    },
    {
     "name": "stdout",
     "output_type": "stream",
     "text": [
      "Epoch: 90, Train Loss: 0.03487898103892803, Test Loss: 0.2002204339858144\n"
     ]
    },
    {
     "name": "stdout",
     "output_type": "stream",
     "text": [
      "Epoch: 91, Train Loss: 0.03257253840565681, Test Loss: 0.18104885006323457\n"
     ]
    },
    {
     "name": "stdout",
     "output_type": "stream",
     "text": [
      "Epoch: 92, Train Loss: 0.03331257060170173, Test Loss: 0.22157466257922354\n"
     ]
    },
    {
     "name": "stdout",
     "output_type": "stream",
     "text": [
      "Epoch: 93, Train Loss: 0.033085533604025844, Test Loss: 0.1875778276473285\n"
     ]
    },
    {
     "name": "stdout",
     "output_type": "stream",
     "text": [
      "Epoch: 94, Train Loss: 0.034487067162990576, Test Loss: 0.19722604960203147\n"
     ]
    },
    {
     "name": "stdout",
     "output_type": "stream",
     "text": [
      "Epoch: 95, Train Loss: 0.032416804432868956, Test Loss: 0.192500709677115\n"
     ]
    },
    {
     "name": "stdout",
     "output_type": "stream",
     "text": [
      "Epoch: 96, Train Loss: 0.03207528226077557, Test Loss: 0.18945089916698638\n"
     ]
    },
    {
     "name": "stdout",
     "output_type": "stream",
     "text": [
      "Epoch: 97, Train Loss: 0.030878251194953923, Test Loss: 0.18782671975903223\n"
     ]
    },
    {
     "name": "stdout",
     "output_type": "stream",
     "text": [
      "Epoch: 98, Train Loss: 0.03646445021033287, Test Loss: 0.24533052215352655\n"
     ]
    },
    {
     "name": "stdout",
     "output_type": "stream",
     "text": [
      "Epoch: 99, Train Loss: 0.040807815641164785, Test Loss: 0.18058287325315162\n"
     ]
    },
    {
     "data": {
      "image/png": "[encoded data removed]",
      "text/plain": [
       "<Figure size 1296x288 with 6 Axes>"
      ]
     },
     "metadata": {
      "needs_background": "light"
     },
     "output_type": "display_data"
    }
   ],
   "source": [
    "import matplotlib.pyplot as plt\n",
    "\n",
    "fig, axes = plt.subplots(nrows=1, ncols=6, figsize=(18,4))\n",
    "keys = ['train_loss', 'test_loss', 'dice', 'vs', 'asd', 'hd']\n",
    "for i, (col, key) in enumerate(zip(axes, keys)):\n",
    "    col.plot(range(len(result[key])), result[key], label=key)\n",
    "    col.set_title(key, fontsize=16)\n",
    "    col.legend()\n",
    "fig.tight_layout()"
   ]
  },
  {
   "cell_type": "code",
   "execution_count": 8,
   "metadata": {},
   "outputs": [],
   "source": [
    "import json\n",
    "from pathlib import Path\n",
    "\n",
    "json_path = Path(ck_dir)/'result.json'\n",
    "json_path.parent.mkdir(parents=True, exist_ok=True)\n",
    "with open(json_path, 'w') as fp:\n",
    "    json.dump(result, fp, sort_keys=True, indent=4)"
   ]
  },
  {
   "cell_type": "code",
   "execution_count": null,
   "metadata": {},
   "outputs": [],
   "source": []
  }
 ],
 "metadata": {
  "interpreter": {
   "hash": "8d5ef73661dc1e470ff5151709ad7c30090148399767dff29c9b11ee4bb08796"
  },
  "kernelspec": {
   "display_name": "Python 3.9.4 64-bit ('mlstudy': conda)",
   "name": "python3"
  },
  "language_info": {
   "name": "python",
   "version": ""
  },
  "orig_nbformat": 3
 },
 "nbformat": 4,
 "nbformat_minor": 2
}